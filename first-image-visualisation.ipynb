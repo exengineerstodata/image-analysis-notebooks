{
 "cells": [
  {
   "cell_type": "markdown",
   "metadata": {},
   "source": [
    "## To make it work straight away, make sure this notebook.ipynb file is located within a similar file structure as below:\n",
    "\n",
    "### Suggested folder structure:\n",
    "<br>\n",
    "<li>/Datathon2019/ </li>\n",
    "<li><ul>    > image-analysis-workbooks/   (git repo - this .ipynb file should be in here)</li>\n",
    "<br>    > phase-01                    (data folder downloaded and unzipped from medium.com  </ul>"
   ]
  },
  {
   "cell_type": "code",
   "execution_count": null,
   "metadata": {},
   "outputs": [],
   "source": [
    "from PIL import Image, ImageDraw\n",
    "from glob import glob\n",
    "import os\n",
    "import numpy as np\n",
    "import pandas as pd\n",
    "from pprint import pprint\n",
    "import matplotlib.pyplot as plt"
   ]
  },
  {
   "cell_type": "markdown",
   "metadata": {},
   "source": [
    "## OVERRIDE SETTINGS FOR YOUR ENV"
   ]
  },
  {
   "cell_type": "code",
   "execution_count": null,
   "metadata": {},
   "outputs": [],
   "source": [
    "DATA_DIR= '../data/phase-01'"
   ]
  },
  {
   "cell_type": "markdown",
   "metadata": {},
   "source": [
    "### from the demo.py file, showing how to use PIL Image to open a mask file"
   ]
  },
  {
   "cell_type": "code",
   "execution_count": null,
   "metadata": {},
   "outputs": [],
   "source": [
    "TILE_X = 7680\n",
    "TILE_Y = 10240\n",
    "IS_IN_MASK_PIXEL_VALUE = (0, 0, 0, 255)"
   ]
  },
  {
   "cell_type": "code",
   "execution_count": null,
   "metadata": {},
   "outputs": [],
   "source": [
    "# Get the physical path to the PNG image containing the mask file\n",
    "def get_mask_path(tile_x, tile_y, mask_type):\n",
    "    path = f\"{DATA_DIR}/data/sentinel-2a-tile-{tile_x}x-{tile_y}y/masks/{mask_type}-mask.png\"\n",
    "    return path"
   ]
  },
  {
   "cell_type": "code",
   "execution_count": null,
   "metadata": {},
   "outputs": [],
   "source": [
    "mask_path = get_mask_path(TILE_X, TILE_Y, \"sugarcane-region\")"
   ]
  },
  {
   "cell_type": "code",
   "execution_count": null,
   "metadata": {},
   "outputs": [],
   "source": [
    "mimg = Image.open(mask_path)"
   ]
  },
  {
   "cell_type": "code",
   "execution_count": null,
   "metadata": {},
   "outputs": [],
   "source": [
    "mimg"
   ]
  },
  {
   "cell_type": "code",
   "execution_count": null,
   "metadata": {},
   "outputs": [],
   "source": [
    "mpixels = mimg.load()"
   ]
  },
  {
   "cell_type": "code",
   "execution_count": null,
   "metadata": {},
   "outputs": [],
   "source": [
    "## testing out a few properties of an Image() object\n",
    "print(mimg.size)\n",
    "print(mimg.category)\n",
    "print(mimg.format)\n",
    "print(mimg.height)\n",
    "print(mimg.info)\n",
    "print(mimg.text)\n",
    "print(mimg.width)"
   ]
  },
  {
   "cell_type": "code",
   "execution_count": null,
   "metadata": {},
   "outputs": [],
   "source": [
    "imglist = glob('../../phase-01/data/sentinel-2a-tile-7680x-10240y/timeseries/*')\n",
    "imglist.sort()\n",
    "imglist"
   ]
  },
  {
   "cell_type": "code",
   "execution_count": null,
   "metadata": {},
   "outputs": [],
   "source": [
    "i0 = Image.open(imglist[0])"
   ]
  },
  {
   "cell_type": "markdown",
   "metadata": {},
   "source": [
    "### Bit of data definition from documentation to look at different types of images we have"
   ]
  },
  {
   "cell_type": "code",
   "execution_count": null,
   "metadata": {},
   "outputs": [],
   "source": [
    "types_of_image = [i.split('/')[-1].split('-')[2] for i in imglist]\n",
    "types_of_image = sorted(list(set(types_of_image)))\n",
    "print(len(types_of_image),\" different types of images\")\n",
    "b8a = types_of_image.pop(12)\n",
    "types_of_image.insert(8,b8a)\n",
    "print(types_of_image)"
   ]
  },
  {
   "cell_type": "code",
   "execution_count": null,
   "metadata": {},
   "outputs": [],
   "source": [
    "descriptions = [\"Coastal aerosol\",'Blue','Green','Red','Vegetation Red Edge','Vegetation Red Edge','Vegetation Red Edge','NIR','Vegetation Red Edge','Water vapour','SWIR - Cirrus','SWIR','SWIR','True Colour Image']\n",
    "wavelengths = [0.443,0.490,0.560,0.665,0.705,0.740,0.783,0.842,0.865,0.945,1.375,1.610,2.19,None]\n",
    "resolutions = [60,10,10,10,20,20,20,10,20,60,60,20,20,None]\n",
    "print(len(descriptions),len(wavelengths),len(resolutions))"
   ]
  },
  {
   "cell_type": "markdown",
   "metadata": {},
   "source": [
    "### datadict variable is now dict with documentation for each image type"
   ]
  },
  {
   "cell_type": "code",
   "execution_count": null,
   "metadata": {},
   "outputs": [],
   "source": [
    "datadict = {k:v for k,v in zip(types_of_image,[{'Description':desc,'Wavelength':wvl,'Resolution':res} \n",
    "                                               for desc,wvl,res in zip(descriptions,wavelengths,resolutions)])}\n",
    "pprint(datadict)"
   ]
  },
  {
   "cell_type": "code",
   "execution_count": null,
   "metadata": {},
   "outputs": [],
   "source": [
    "exampleimages = {t:sorted(glob(f'../../phase-01/data/sentinel-2a-tile-7680x-10240y/timeseries/*{t}*'))[0] for t in types_of_image}\n",
    "exampleimages"
   ]
  },
  {
   "cell_type": "code",
   "execution_count": null,
   "metadata": {},
   "outputs": [],
   "source": [
    "exampleimages = {k:Image.open(v) for k,v in exampleimages.items()}\n",
    "exampleimages"
   ]
  },
  {
   "cell_type": "markdown",
   "metadata": {},
   "source": [
    "## This looks like a better way to visualise - use matplotlib.pyplot.imshow()\n",
    "<br> Had to do some preprocessing to reverse the values in the mask"
   ]
  },
  {
   "cell_type": "code",
   "execution_count": null,
   "metadata": {},
   "outputs": [],
   "source": [
    "def reverse_mask(mask_image):\n",
    "    \"\"\"This is for creating a 'reversed mask' for use with matplotlib.pyplot.imshow()\n",
    "    Where we want the pixels that ARE in the mask to be transparent/blank, \n",
    "    and the pixels that are not in the mask to be blanked out.\n",
    "    Does take a second or two to loop through the np.array, might be a more efficient way to do it\n",
    "    if this needs to be done at scale but I suspect we won't reach there just for visualisation\"\"\"\n",
    "    themask = np.asarray(mask_image).copy()\n",
    "    \n",
    "    BLANK = [0,0,0,0]\n",
    "    IS_IN_MASK_PIXEL_VALUE = [0, 0, 0, 255]\n",
    "#     BLOCK = [255,255,255,255]\n",
    "    \n",
    "    for row in range(mask_image.height):\n",
    "        for column in range(mask_image.width):\n",
    "            pixel = themask[row,column]\n",
    "\n",
    "            if (pixel == IS_IN_MASK_PIXEL_VALUE).all() == True:\n",
    "                themask[row,column] = BLANK\n",
    "            else:\n",
    "                themask[row,column] = IS_IN_MASK_PIXEL_VALUE\n",
    "    return themask\n"
   ]
  },
  {
   "cell_type": "code",
   "execution_count": null,
   "metadata": {},
   "outputs": [],
   "source": [
    "revmask = reverse_mask(mimg)"
   ]
  },
  {
   "cell_type": "code",
   "execution_count": null,
   "metadata": {},
   "outputs": [],
   "source": [
    "def multi_scatter(indict, mask=\"\", no_cols=4, clrmap='seismic', mask_alpha=0.4, infodict=datadict):\n",
    "\n",
    "    no_rows = int(np.ceil(len(indict.keys())/no_cols))\n",
    "    plotlen = int(round((15/no_cols)*no_rows))\n",
    "    fig, axes = plt.subplots(nrows=no_rows, ncols=no_cols, figsize = (15,plotlen), sharey=True)\n",
    "\n",
    "    axes = axes.flatten()\n",
    "\n",
    "    for i, name, image in zip(range(len(indict)),indict.keys(),indict.values()):\n",
    "\n",
    "        axes[i].imshow(np.asarray(image), cmap=clrmap)\n",
    "        if len(mask) > 0:\n",
    "            axes[i].imshow(mask, alpha=mask_alpha)\n",
    "        axes[i].set(title=f\"{name}: {infodict[name]['Description']}\")\n",
    "\n",
    "    fig.subplots_adjust(wspace= 0.1, hspace=0.2)\n",
    "\n",
    "#     plt.savefig(\"xxxxxxxxx.png\")\n",
    "    plt.show()"
   ]
  },
  {
   "cell_type": "code",
   "execution_count": null,
   "metadata": {},
   "outputs": [],
   "source": [
    "multi_scatter(exampleimages, mask=revmask, no_cols=3, mask_alpha=0.7)\n",
    "## clrmap as 'seismic' means red = high, blue = low, white should be centred on zero. \n",
    "## see https://matplotlib.org/users/colormaps.html"
   ]
  },
  {
   "cell_type": "code",
   "execution_count": null,
   "metadata": {},
   "outputs": [],
   "source": [
    "exampleimages['TCI']"
   ]
  },
  {
   "cell_type": "markdown",
   "metadata": {},
   "source": [
    "## Run each of the cells below in succesion to get info and example image for each of the 14 types of image\n",
    "<br> admittedley it's not super exciting, mostly black and white masks except the TCI one at the end"
   ]
  },
  {
   "cell_type": "code",
   "execution_count": null,
   "metadata": {},
   "outputs": [],
   "source": [
    "# t = 0\n",
    "# typex = types_of_image[t]\n",
    "# print(typex,datadict[typex])\n",
    "# exampleimages[typex]"
   ]
  },
  {
   "cell_type": "code",
   "execution_count": null,
   "metadata": {},
   "outputs": [],
   "source": [
    "# t += 1\n",
    "# typex = types_of_image[t]\n",
    "# print(typex,datadict[typex])\n",
    "# exampleimages[typex]"
   ]
  },
  {
   "cell_type": "code",
   "execution_count": null,
   "metadata": {},
   "outputs": [],
   "source": [
    "# t += 1\n",
    "# typex = types_of_image[t]\n",
    "# print(typex,datadict[typex])\n",
    "# exampleimages[typex]"
   ]
  },
  {
   "cell_type": "code",
   "execution_count": null,
   "metadata": {},
   "outputs": [],
   "source": [
    "# t += 1\n",
    "# typex = types_of_image[t]\n",
    "# print(typex,datadict[typex])\n",
    "# exampleimages[typex]"
   ]
  },
  {
   "cell_type": "code",
   "execution_count": null,
   "metadata": {},
   "outputs": [],
   "source": [
    "# t += 1\n",
    "# typex = types_of_image[t]\n",
    "# print(typex,datadict[typex])\n",
    "# exampleimages[typex]"
   ]
  },
  {
   "cell_type": "code",
   "execution_count": null,
   "metadata": {},
   "outputs": [],
   "source": [
    "# t += 1\n",
    "# typex = types_of_image[t]\n",
    "# print(typex,datadict[typex])\n",
    "# exampleimages[typex]"
   ]
  },
  {
   "cell_type": "code",
   "execution_count": null,
   "metadata": {},
   "outputs": [],
   "source": [
    "# t += 1\n",
    "# typex = types_of_image[t]\n",
    "# print(typex,datadict[typex])\n",
    "# exampleimages[typex]"
   ]
  },
  {
   "cell_type": "code",
   "execution_count": null,
   "metadata": {},
   "outputs": [],
   "source": [
    "# t += 1\n",
    "# typex = types_of_image[t]\n",
    "# print(typex,datadict[typex])\n",
    "# exampleimages[typex]"
   ]
  },
  {
   "cell_type": "code",
   "execution_count": null,
   "metadata": {},
   "outputs": [],
   "source": [
    "# t += 1\n",
    "# typex = types_of_image[t]\n",
    "# print(typex,datadict[typex])\n",
    "# exampleimages[typex]"
   ]
  },
  {
   "cell_type": "code",
   "execution_count": null,
   "metadata": {},
   "outputs": [],
   "source": [
    "# t += 1\n",
    "# typex = types_of_image[t]\n",
    "# print(typex,datadict[typex])\n",
    "# exampleimages[typex]"
   ]
  },
  {
   "cell_type": "code",
   "execution_count": null,
   "metadata": {},
   "outputs": [],
   "source": [
    "# t += 1\n",
    "# typex = types_of_image[t]\n",
    "# print(typex,datadict[typex])\n",
    "# exampleimages[typex]"
   ]
  },
  {
   "cell_type": "code",
   "execution_count": null,
   "metadata": {},
   "outputs": [],
   "source": [
    "# t += 1\n",
    "# typex = types_of_image[t]\n",
    "# print(typex,datadict[typex])\n",
    "# exampleimages[typex]"
   ]
  },
  {
   "cell_type": "code",
   "execution_count": null,
   "metadata": {},
   "outputs": [],
   "source": [
    "# t += 1\n",
    "# typex = types_of_image[t]\n",
    "# print(typex,datadict[typex])\n",
    "# exampleimages[typex]"
   ]
  },
  {
   "cell_type": "code",
   "execution_count": null,
   "metadata": {
    "scrolled": true
   },
   "outputs": [],
   "source": [
    "# t += 1\n",
    "# typex = types_of_image[t]\n",
    "# print(typex,datadict[typex])\n",
    "# exampleimages[typex]"
   ]
  },
  {
   "cell_type": "markdown",
   "metadata": {},
   "source": [
    "## Warning - running below cell will open up 14 image files in whatever the default image viewing tool your computer runs (opened up 14 separate Preview windows on my Mac)\n",
    "<br> and none of them are very interesting, it seems to reverse the black in the non-TCI image to white and show basically nothing"
   ]
  },
  {
   "cell_type": "code",
   "execution_count": null,
   "metadata": {},
   "outputs": [],
   "source": [
    "# for t in range(len(exampleimages)):\n",
    "#     typex = types_of_image[t]\n",
    "#     print(typex,datadict[typex])\n",
    "#     exampleimages[typex].show()"
   ]
  },
  {
   "cell_type": "code",
   "execution_count": null,
   "metadata": {},
   "outputs": [],
   "source": []
  },
  {
   "cell_type": "code",
   "execution_count": null,
   "metadata": {},
   "outputs": [],
   "source": []
  }
 ],
 "metadata": {
  "kernelspec": {
   "display_name": "Python 3",
   "language": "python",
   "name": "python3"
  },
  "language_info": {
   "codemirror_mode": {
    "name": "ipython",
    "version": 3
   },
   "file_extension": ".py",
   "mimetype": "text/x-python",
   "name": "python",
   "nbconvert_exporter": "python",
   "pygments_lexer": "ipython3",
   "version": "3.7.3"
  }
 },
 "nbformat": 4,
 "nbformat_minor": 2
}
